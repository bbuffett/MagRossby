{
 "cells": [
  {
   "cell_type": "markdown",
   "metadata": {},
   "source": [
    "Fitting Magnetic Rossby Waves to Secular Acceleration\n",
    "\n",
    "The application of complex empirical orthogonal functions to secular acceleration (SA) revealed high-latitude waves below Alaska. The principal (first) mode had an angular order of m=3 and a period of T = 20.75 $\\pm$ 3.4 years. Different combinations of input parameters can reproduce this period. The choice of parameters include the layer thickness (H), the stratification (Np = N/Omega) and the strength of the magnetic field (Br). The example below shows one choice for H, Np and Br. "
   ]
  },
  {
   "cell_type": "code",
   "execution_count": 10,
   "metadata": {},
   "outputs": [],
   "source": [
    "using LinearAlgebra\n",
    "using NonlinearEigenproblems\n",
    "using Interpolations\n",
    "using Plots\n",
    "include(\"ProjectFiles.jl\");\n"
   ]
  },
  {
   "cell_type": "code",
   "execution_count": 11,
   "metadata": {},
   "outputs": [],
   "source": [
    "# define model parameters\n",
    "H = 140.0;    # thickness of layer (km)\n",
    "Np = 0.58;    # dimensionless stratification Np = N/Omega\n",
    "m = 3;        # angular order\n",
    "Br = 0.62;     # radial magnetic field (mT)"
   ]
  },
  {
   "cell_type": "code",
   "execution_count": 12,
   "metadata": {},
   "outputs": [],
   "source": [
    "# number of grid points in latitude (equator to pole)\n",
    "ngrid = 160;"
   ]
  },
  {
   "cell_type": "markdown",
   "metadata": {},
   "source": [
    "A total of 320 modes are recovered when ngrid=160. Select an initial estimate of the period to identify the wave of interest.  "
   ]
  },
  {
   "cell_type": "code",
   "execution_count": 13,
   "metadata": {},
   "outputs": [],
   "source": [
    "# initial period\n",
    "T = -22.0;     # years"
   ]
  },
  {
   "cell_type": "code",
   "execution_count": 14,
   "metadata": {},
   "outputs": [
    {
     "name": "stdout",
     "output_type": "stream",
     "text": [
      "mode number = 14\n",
      "Period = -20.686973508277575 (years)    Quality factor Q = 61.61627708206998\n"
     ]
    }
   ],
   "source": [
    "pd,q,bx,by,y = pWaves(ngrid,H,Np,Br,m,T);\n",
    "println(\"Period = \",pd,\" (years)    Quality factor Q = \",q);"
   ]
  },
  {
   "cell_type": "markdown",
   "metadata": {},
   "source": [
    "Convert the meridional grid to latitude (in degree) and plot the real part of the eigenfunction $b_y$"
   ]
  },
  {
   "cell_type": "code",
   "execution_count": 15,
   "metadata": {},
   "outputs": [
    {
     "data": {
      "image/svg+xml": [
       "<?xml version=\"1.0\" encoding=\"utf-8\"?>\n",
       "<svg xmlns=\"http://www.w3.org/2000/svg\" xmlns:xlink=\"http://www.w3.org/1999/xlink\" width=\"600\" height=\"400\" viewBox=\"0 0 2400 1600\">\n",
       "<defs>\n",
       "  <clipPath id=\"clip9900\">\n",
       "    <rect x=\"0\" y=\"0\" width=\"2400\" height=\"1600\"/>\n",
       "  </clipPath>\n",
       "</defs>\n",
       "<path clip-path=\"url(#clip9900)\" d=\"\n",
       "M0 1600 L2400 1600 L2400 0 L0 0  Z\n",
       "  \" fill=\"#ffffff\" fill-rule=\"evenodd\" fill-opacity=\"1\"/>\n",
       "<defs>\n",
       "  <clipPath id=\"clip9901\">\n",
       "    <rect x=\"480\" y=\"0\" width=\"1681\" height=\"1600\"/>\n",
       "  </clipPath>\n",
       "</defs>\n",
       "<path clip-path=\"url(#clip9900)\" d=\"\n",
       "M242.516 1425.62 L2352.76 1425.62 L2352.76 47.2441 L242.516 47.2441  Z\n",
       "  \" fill=\"#ffffff\" fill-rule=\"evenodd\" fill-opacity=\"1\"/>\n",
       "<defs>\n",
       "  <clipPath id=\"clip9902\">\n",
       "    <rect x=\"242\" y=\"47\" width=\"2111\" height=\"1379\"/>\n",
       "  </clipPath>\n",
       "</defs>\n",
       "<polyline clip-path=\"url(#clip9902)\" style=\"stroke:#000000; stroke-width:2; stroke-opacity:0.1; fill:none\" points=\"\n",
       "  242.516,1425.62 242.516,47.2441 \n",
       "  \"/>\n",
       "<polyline clip-path=\"url(#clip9902)\" style=\"stroke:#000000; stroke-width:2; stroke-opacity:0.1; fill:none\" points=\"\n",
       "  945.93,1425.62 945.93,47.2441 \n",
       "  \"/>\n",
       "<polyline clip-path=\"url(#clip9902)\" style=\"stroke:#000000; stroke-width:2; stroke-opacity:0.1; fill:none\" points=\"\n",
       "  1649.34,1425.62 1649.34,47.2441 \n",
       "  \"/>\n",
       "<polyline clip-path=\"url(#clip9902)\" style=\"stroke:#000000; stroke-width:2; stroke-opacity:0.1; fill:none\" points=\"\n",
       "  2352.76,1425.62 2352.76,47.2441 \n",
       "  \"/>\n",
       "<polyline clip-path=\"url(#clip9902)\" style=\"stroke:#000000; stroke-width:2; stroke-opacity:0.1; fill:none\" points=\"\n",
       "  242.516,1386.61 2352.76,1386.61 \n",
       "  \"/>\n",
       "<polyline clip-path=\"url(#clip9902)\" style=\"stroke:#000000; stroke-width:2; stroke-opacity:0.1; fill:none\" points=\"\n",
       "  242.516,1061.52 2352.76,1061.52 \n",
       "  \"/>\n",
       "<polyline clip-path=\"url(#clip9902)\" style=\"stroke:#000000; stroke-width:2; stroke-opacity:0.1; fill:none\" points=\"\n",
       "  242.516,736.431 2352.76,736.431 \n",
       "  \"/>\n",
       "<polyline clip-path=\"url(#clip9902)\" style=\"stroke:#000000; stroke-width:2; stroke-opacity:0.1; fill:none\" points=\"\n",
       "  242.516,411.343 2352.76,411.343 \n",
       "  \"/>\n",
       "<polyline clip-path=\"url(#clip9902)\" style=\"stroke:#000000; stroke-width:2; stroke-opacity:0.1; fill:none\" points=\"\n",
       "  242.516,86.2547 2352.76,86.2547 \n",
       "  \"/>\n",
       "<polyline clip-path=\"url(#clip9900)\" style=\"stroke:#000000; stroke-width:4; stroke-opacity:1; fill:none\" points=\"\n",
       "  242.516,1425.62 2352.76,1425.62 \n",
       "  \"/>\n",
       "<polyline clip-path=\"url(#clip9900)\" style=\"stroke:#000000; stroke-width:4; stroke-opacity:1; fill:none\" points=\"\n",
       "  242.516,1425.62 242.516,47.2441 \n",
       "  \"/>\n",
       "<polyline clip-path=\"url(#clip9900)\" style=\"stroke:#000000; stroke-width:4; stroke-opacity:1; fill:none\" points=\"\n",
       "  242.516,1425.62 242.516,1409.08 \n",
       "  \"/>\n",
       "<polyline clip-path=\"url(#clip9900)\" style=\"stroke:#000000; stroke-width:4; stroke-opacity:1; fill:none\" points=\"\n",
       "  945.93,1425.62 945.93,1409.08 \n",
       "  \"/>\n",
       "<polyline clip-path=\"url(#clip9900)\" style=\"stroke:#000000; stroke-width:4; stroke-opacity:1; fill:none\" points=\"\n",
       "  1649.34,1425.62 1649.34,1409.08 \n",
       "  \"/>\n",
       "<polyline clip-path=\"url(#clip9900)\" style=\"stroke:#000000; stroke-width:4; stroke-opacity:1; fill:none\" points=\"\n",
       "  2352.76,1425.62 2352.76,1409.08 \n",
       "  \"/>\n",
       "<polyline clip-path=\"url(#clip9900)\" style=\"stroke:#000000; stroke-width:4; stroke-opacity:1; fill:none\" points=\"\n",
       "  242.516,1386.61 267.839,1386.61 \n",
       "  \"/>\n",
       "<polyline clip-path=\"url(#clip9900)\" style=\"stroke:#000000; stroke-width:4; stroke-opacity:1; fill:none\" points=\"\n",
       "  242.516,1061.52 267.839,1061.52 \n",
       "  \"/>\n",
       "<polyline clip-path=\"url(#clip9900)\" style=\"stroke:#000000; stroke-width:4; stroke-opacity:1; fill:none\" points=\"\n",
       "  242.516,736.431 267.839,736.431 \n",
       "  \"/>\n",
       "<polyline clip-path=\"url(#clip9900)\" style=\"stroke:#000000; stroke-width:4; stroke-opacity:1; fill:none\" points=\"\n",
       "  242.516,411.343 267.839,411.343 \n",
       "  \"/>\n",
       "<polyline clip-path=\"url(#clip9900)\" style=\"stroke:#000000; stroke-width:4; stroke-opacity:1; fill:none\" points=\"\n",
       "  242.516,86.2547 267.839,86.2547 \n",
       "  \"/>\n",
       "<g clip-path=\"url(#clip9900)\">\n",
       "<text style=\"fill:#000000; fill-opacity:1; font-family:Arial,Helvetica Neue,Helvetica,sans-serif; font-size:48px; text-anchor:middle;\" transform=\"rotate(0, 242.516, 1479.62)\" x=\"242.516\" y=\"1479.62\">0</text>\n",
       "</g>\n",
       "<g clip-path=\"url(#clip9900)\">\n",
       "<text style=\"fill:#000000; fill-opacity:1; font-family:Arial,Helvetica Neue,Helvetica,sans-serif; font-size:48px; text-anchor:middle;\" transform=\"rotate(0, 945.93, 1479.62)\" x=\"945.93\" y=\"1479.62\">30</text>\n",
       "</g>\n",
       "<g clip-path=\"url(#clip9900)\">\n",
       "<text style=\"fill:#000000; fill-opacity:1; font-family:Arial,Helvetica Neue,Helvetica,sans-serif; font-size:48px; text-anchor:middle;\" transform=\"rotate(0, 1649.34, 1479.62)\" x=\"1649.34\" y=\"1479.62\">60</text>\n",
       "</g>\n",
       "<g clip-path=\"url(#clip9900)\">\n",
       "<text style=\"fill:#000000; fill-opacity:1; font-family:Arial,Helvetica Neue,Helvetica,sans-serif; font-size:48px; text-anchor:middle;\" transform=\"rotate(0, 2352.76, 1479.62)\" x=\"2352.76\" y=\"1479.62\">90</text>\n",
       "</g>\n",
       "<g clip-path=\"url(#clip9900)\">\n",
       "<text style=\"fill:#000000; fill-opacity:1; font-family:Arial,Helvetica Neue,Helvetica,sans-serif; font-size:48px; text-anchor:end;\" transform=\"rotate(0, 218.516, 1404.11)\" x=\"218.516\" y=\"1404.11\">0.00</text>\n",
       "</g>\n",
       "<g clip-path=\"url(#clip9900)\">\n",
       "<text style=\"fill:#000000; fill-opacity:1; font-family:Arial,Helvetica Neue,Helvetica,sans-serif; font-size:48px; text-anchor:end;\" transform=\"rotate(0, 218.516, 1079.02)\" x=\"218.516\" y=\"1079.02\">0.25</text>\n",
       "</g>\n",
       "<g clip-path=\"url(#clip9900)\">\n",
       "<text style=\"fill:#000000; fill-opacity:1; font-family:Arial,Helvetica Neue,Helvetica,sans-serif; font-size:48px; text-anchor:end;\" transform=\"rotate(0, 218.516, 753.931)\" x=\"218.516\" y=\"753.931\">0.50</text>\n",
       "</g>\n",
       "<g clip-path=\"url(#clip9900)\">\n",
       "<text style=\"fill:#000000; fill-opacity:1; font-family:Arial,Helvetica Neue,Helvetica,sans-serif; font-size:48px; text-anchor:end;\" transform=\"rotate(0, 218.516, 428.843)\" x=\"218.516\" y=\"428.843\">0.75</text>\n",
       "</g>\n",
       "<g clip-path=\"url(#clip9900)\">\n",
       "<text style=\"fill:#000000; fill-opacity:1; font-family:Arial,Helvetica Neue,Helvetica,sans-serif; font-size:48px; text-anchor:end;\" transform=\"rotate(0, 218.516, 103.755)\" x=\"218.516\" y=\"103.755\">1.00</text>\n",
       "</g>\n",
       "<g clip-path=\"url(#clip9900)\">\n",
       "<text style=\"fill:#000000; fill-opacity:1; font-family:Arial,Helvetica Neue,Helvetica,sans-serif; font-size:66px; text-anchor:middle;\" transform=\"rotate(0, 1297.64, 1559.48)\" x=\"1297.64\" y=\"1559.48\">Latitude (deg)</text>\n",
       "</g>\n",
       "<g clip-path=\"url(#clip9900)\">\n",
       "<text style=\"fill:#000000; fill-opacity:1; font-family:Arial,Helvetica Neue,Helvetica,sans-serif; font-size:66px; text-anchor:middle;\" transform=\"rotate(-90, 89.2861, 736.431)\" x=\"89.2861\" y=\"736.431\">Wave Amplitude</text>\n",
       "</g>\n",
       "<polyline clip-path=\"url(#clip9902)\" style=\"stroke:#009af9; stroke-width:4; stroke-opacity:1; fill:none\" points=\"\n",
       "  250.861,1386.61 259.205,1386.61 267.551,1386.61 275.897,1386.61 284.244,1386.61 292.593,1386.61 300.944,1386.61 309.298,1386.61 317.654,1386.61 326.012,1386.61 \n",
       "  334.374,1386.61 342.74,1386.61 351.11,1386.61 359.483,1386.61 367.862,1386.61 376.245,1386.61 384.633,1386.61 393.027,1386.6 401.427,1386.6 409.833,1386.6 \n",
       "  418.246,1386.6 426.666,1386.6 435.092,1386.6 443.527,1386.6 451.97,1386.6 460.42,1386.6 468.88,1386.6 477.349,1386.6 485.827,1386.6 494.315,1386.6 \n",
       "  502.813,1386.59 511.322,1386.59 519.841,1386.59 528.372,1386.59 536.915,1386.59 545.47,1386.59 554.037,1386.58 562.617,1386.58 571.211,1386.58 579.818,1386.57 \n",
       "  588.44,1386.57 597.076,1386.57 605.727,1386.56 614.393,1386.56 623.076,1386.55 631.775,1386.54 640.49,1386.54 649.223,1386.53 657.974,1386.52 666.743,1386.51 \n",
       "  675.531,1386.5 684.338,1386.48 693.164,1386.47 702.011,1386.46 710.879,1386.44 719.768,1386.42 728.679,1386.4 737.613,1386.38 746.569,1386.35 755.549,1386.32 \n",
       "  764.553,1386.29 773.582,1386.25 782.637,1386.21 791.717,1386.17 800.824,1386.12 809.958,1386.07 819.121,1386.01 828.312,1385.94 837.532,1385.87 846.783,1385.78 \n",
       "  856.064,1385.69 865.377,1385.59 874.722,1385.48 884.101,1385.35 893.514,1385.22 902.961,1385.06 912.444,1384.89 921.964,1384.7 931.521,1384.49 941.117,1384.26 \n",
       "  950.752,1384 960.428,1383.72 970.145,1383.4 979.904,1383.05 989.707,1382.66 999.555,1382.23 1009.45,1381.75 1019.39,1381.22 1029.38,1380.63 1039.42,1379.98 \n",
       "  1049.5,1379.27 1059.65,1378.47 1069.84,1377.59 1080.09,1376.62 1090.4,1375.54 1100.76,1374.35 1111.19,1373.03 1121.67,1371.58 1132.22,1369.97 1142.83,1368.2 \n",
       "  1153.51,1366.24 1164.26,1364.08 1175.09,1361.7 1185.98,1359.06 1196.95,1356.16 1207.99,1352.97 1219.12,1349.45 1230.33,1345.57 1241.62,1341.3 1253.01,1336.61 \n",
       "  1264.48,1331.45 1276.05,1325.77 1287.71,1319.54 1299.48,1312.7 1311.35,1305.2 1323.32,1296.97 1335.41,1287.95 1347.62,1278.08 1359.94,1267.29 1372.4,1255.49 \n",
       "  1384.98,1242.6 1397.7,1228.53 1410.56,1213.21 1423.56,1196.52 1436.72,1178.37 1450.04,1158.65 1463.53,1137.26 1477.2,1114.09 1491.05,1089.02 1505.09,1061.96 \n",
       "  1519.34,1032.8 1533.8,1001.42 1548.49,967.753 1563.42,931.703 1578.6,893.21 1594.05,852.232 1609.79,808.756 1625.83,762.805 1642.2,714.447 1658.91,663.812 \n",
       "  1676,611.095 1693.5,556.584 1711.43,500.668 1729.83,443.87 1748.75,386.863 1768.25,330.511 1788.37,275.899 1809.19,224.378 1830.79,177.618 1853.28,137.662 \n",
       "  1876.78,107.002 1901.44,88.653 1927.48,86.2547 1955.15,104.177 1984.84,147.656 2017.07,222.94 2052.67,337.48 2093.01,500.144 2140.78,721.481 2202.95,1013.88 \n",
       "  2352.76,1386.61 \n",
       "  \"/>\n",
       "<path clip-path=\"url(#clip9900)\" d=\"\n",
       "M1989.93 251.724 L2280.76 251.724 L2280.76 130.764 L1989.93 130.764  Z\n",
       "  \" fill=\"#ffffff\" fill-rule=\"evenodd\" fill-opacity=\"1\"/>\n",
       "<polyline clip-path=\"url(#clip9900)\" style=\"stroke:#000000; stroke-width:4; stroke-opacity:1; fill:none\" points=\"\n",
       "  1989.93,251.724 2280.76,251.724 2280.76,130.764 1989.93,130.764 1989.93,251.724 \n",
       "  \"/>\n",
       "<polyline clip-path=\"url(#clip9900)\" style=\"stroke:#009af9; stroke-width:4; stroke-opacity:1; fill:none\" points=\"\n",
       "  2013.93,191.244 2157.93,191.244 \n",
       "  \"/>\n",
       "<g clip-path=\"url(#clip9900)\">\n",
       "<text style=\"fill:#000000; fill-opacity:1; font-family:Arial,Helvetica Neue,Helvetica,sans-serif; font-size:48px; text-anchor:start;\" transform=\"rotate(0, 2181.93, 208.744)\" x=\"2181.93\" y=\"208.744\">y1</text>\n",
       "</g>\n",
       "</svg>\n"
      ]
     },
     "execution_count": 15,
     "metadata": {},
     "output_type": "execute_result"
    }
   ],
   "source": [
    "lat = asin.(y)*180.0/pi;\n",
    "amp = maximum(abs.(real(by)));\n",
    "plot(lat,abs.(real(by)/amp),xlabel=\"Latitude (deg)\",ylabel=\"Wave Amplitude\",xlim=(0,90))"
   ]
  },
  {
   "cell_type": "markdown",
   "metadata": {},
   "source": [
    "Compute horizontal components velocity $(v_{\\theta},v_{\\phi})$ and acceleration $(a_{\\theta}, a_{\\phi})$ from the eigenfunctions by and bx"
   ]
  },
  {
   "cell_type": "code",
   "execution_count": 16,
   "metadata": {},
   "outputs": [],
   "source": [
    "ntheta = 80\n",
    "t,clt,lg,vph,vth,aph,ath = realization(ntheta,H,Br,m,y,bx,by,pd,q);"
   ]
  },
  {
   "cell_type": "markdown",
   "metadata": {},
   "source": [
    "Compute the horizontal divergence of velocity and acceleration\n",
    "\n",
    "Velocity Field\n",
    "\n",
    "$\\nabla \\cdot {\\bf v}_H = \\frac{1}{r \\sin\\theta}\\, \\partial_{\\theta} (\\sin\\theta v_{\\theta})  + \\frac{1}{r\\sin\\theta} \\partial_\\phi v_{\\phi}$\n",
    "\n",
    "Acceleration\n",
    "\n",
    "$\\nabla \\cdot {\\bf a}_H = \\frac{1}{r \\sin\\theta}\\, \\partial_{\\theta} (\\sin\\theta a_{\\theta})  + \\frac{1}{r\\sin\\theta} \\partial_\\phi a_{\\phi}$"
   ]
  },
  {
   "cell_type": "code",
   "execution_count": 17,
   "metadata": {},
   "outputs": [],
   "source": [
    "vdiv, adiv = divergence(t,clt,lg,vph,vth,aph,ath);"
   ]
  },
  {
   "cell_type": "markdown",
   "metadata": {},
   "source": [
    "Check amplitude of adiv"
   ]
  },
  {
   "cell_type": "code",
   "execution_count": 18,
   "metadata": {},
   "outputs": [
    {
     "name": "stdout",
     "output_type": "stream",
     "text": [
      "adiv = 4.608747946610487e-5  advection = 0.0002618749183580461\n"
     ]
    }
   ],
   "source": [
    "println(\"adiv = \",maximum(adiv), \"  advection = \", m * maximum(ath)/3480.0)\n"
   ]
  },
  {
   "cell_type": "code",
   "execution_count": 15,
   "metadata": {},
   "outputs": [
    {
     "data": {
      "image/svg+xml": [
       "<?xml version=\"1.0\" encoding=\"utf-8\"?>\n",
       "<svg xmlns=\"http://www.w3.org/2000/svg\" xmlns:xlink=\"http://www.w3.org/1999/xlink\" width=\"600\" height=\"400\" viewBox=\"0 0 2400 1600\">\n",
       "<defs>\n",
       "  <clipPath id=\"clip200\">\n",
       "    <rect x=\"0\" y=\"0\" width=\"2400\" height=\"1600\"/>\n",
       "  </clipPath>\n",
       "</defs>\n",
       "<path clip-path=\"url(#clip200)\" d=\"\n",
       "M0 1600 L2400 1600 L2400 0 L0 0  Z\n",
       "  \" fill=\"#ffffff\" fill-rule=\"evenodd\" fill-opacity=\"1\"/>\n",
       "<defs>\n",
       "  <clipPath id=\"clip201\">\n",
       "    <rect x=\"480\" y=\"0\" width=\"1681\" height=\"1600\"/>\n",
       "  </clipPath>\n",
       "</defs>\n",
       "<path clip-path=\"url(#clip200)\" d=\"\n",
       "M189.103 1423.18 L2352.76 1423.18 L2352.76 47.2441 L189.103 47.2441  Z\n",
       "  \" fill=\"#ffffff\" fill-rule=\"evenodd\" fill-opacity=\"1\"/>\n",
       "<defs>\n",
       "  <clipPath id=\"clip202\">\n",
       "    <rect x=\"189\" y=\"47\" width=\"2165\" height=\"1377\"/>\n",
       "  </clipPath>\n",
       "</defs>\n",
       "<polyline clip-path=\"url(#clip202)\" style=\"stroke:#000000; stroke-width:2; stroke-opacity:0.1; fill:none\" points=\"\n",
       "  189.103,1423.18 189.103,47.2441 \n",
       "  \"/>\n",
       "<polyline clip-path=\"url(#clip202)\" style=\"stroke:#000000; stroke-width:2; stroke-opacity:0.1; fill:none\" points=\"\n",
       "  910.32,1423.18 910.32,47.2441 \n",
       "  \"/>\n",
       "<polyline clip-path=\"url(#clip202)\" style=\"stroke:#000000; stroke-width:2; stroke-opacity:0.1; fill:none\" points=\"\n",
       "  1631.54,1423.18 1631.54,47.2441 \n",
       "  \"/>\n",
       "<polyline clip-path=\"url(#clip202)\" style=\"stroke:#000000; stroke-width:2; stroke-opacity:0.1; fill:none\" points=\"\n",
       "  2352.76,1423.18 2352.76,47.2441 \n",
       "  \"/>\n",
       "<polyline clip-path=\"url(#clip202)\" style=\"stroke:#000000; stroke-width:2; stroke-opacity:0.1; fill:none\" points=\"\n",
       "  189.103,1241.41 2352.76,1241.41 \n",
       "  \"/>\n",
       "<polyline clip-path=\"url(#clip202)\" style=\"stroke:#000000; stroke-width:2; stroke-opacity:0.1; fill:none\" points=\"\n",
       "  189.103,972.803 2352.76,972.803 \n",
       "  \"/>\n",
       "<polyline clip-path=\"url(#clip202)\" style=\"stroke:#000000; stroke-width:2; stroke-opacity:0.1; fill:none\" points=\"\n",
       "  189.103,704.195 2352.76,704.195 \n",
       "  \"/>\n",
       "<polyline clip-path=\"url(#clip202)\" style=\"stroke:#000000; stroke-width:2; stroke-opacity:0.1; fill:none\" points=\"\n",
       "  189.103,435.586 2352.76,435.586 \n",
       "  \"/>\n",
       "<polyline clip-path=\"url(#clip202)\" style=\"stroke:#000000; stroke-width:2; stroke-opacity:0.1; fill:none\" points=\"\n",
       "  189.103,166.978 2352.76,166.978 \n",
       "  \"/>\n",
       "<polyline clip-path=\"url(#clip200)\" style=\"stroke:#000000; stroke-width:4; stroke-opacity:1; fill:none\" points=\"\n",
       "  189.103,1423.18 2352.76,1423.18 \n",
       "  \"/>\n",
       "<polyline clip-path=\"url(#clip200)\" style=\"stroke:#000000; stroke-width:4; stroke-opacity:1; fill:none\" points=\"\n",
       "  189.103,1423.18 189.103,47.2441 \n",
       "  \"/>\n",
       "<polyline clip-path=\"url(#clip200)\" style=\"stroke:#000000; stroke-width:4; stroke-opacity:1; fill:none\" points=\"\n",
       "  189.103,1423.18 189.103,1406.67 \n",
       "  \"/>\n",
       "<polyline clip-path=\"url(#clip200)\" style=\"stroke:#000000; stroke-width:4; stroke-opacity:1; fill:none\" points=\"\n",
       "  910.32,1423.18 910.32,1406.67 \n",
       "  \"/>\n",
       "<polyline clip-path=\"url(#clip200)\" style=\"stroke:#000000; stroke-width:4; stroke-opacity:1; fill:none\" points=\"\n",
       "  1631.54,1423.18 1631.54,1406.67 \n",
       "  \"/>\n",
       "<polyline clip-path=\"url(#clip200)\" style=\"stroke:#000000; stroke-width:4; stroke-opacity:1; fill:none\" points=\"\n",
       "  2352.76,1423.18 2352.76,1406.67 \n",
       "  \"/>\n",
       "<polyline clip-path=\"url(#clip200)\" style=\"stroke:#000000; stroke-width:4; stroke-opacity:1; fill:none\" points=\"\n",
       "  189.103,1241.41 215.066,1241.41 \n",
       "  \"/>\n",
       "<polyline clip-path=\"url(#clip200)\" style=\"stroke:#000000; stroke-width:4; stroke-opacity:1; fill:none\" points=\"\n",
       "  189.103,972.803 215.066,972.803 \n",
       "  \"/>\n",
       "<polyline clip-path=\"url(#clip200)\" style=\"stroke:#000000; stroke-width:4; stroke-opacity:1; fill:none\" points=\"\n",
       "  189.103,704.195 215.066,704.195 \n",
       "  \"/>\n",
       "<polyline clip-path=\"url(#clip200)\" style=\"stroke:#000000; stroke-width:4; stroke-opacity:1; fill:none\" points=\"\n",
       "  189.103,435.586 215.066,435.586 \n",
       "  \"/>\n",
       "<polyline clip-path=\"url(#clip200)\" style=\"stroke:#000000; stroke-width:4; stroke-opacity:1; fill:none\" points=\"\n",
       "  189.103,166.978 215.066,166.978 \n",
       "  \"/>\n",
       "<path clip-path=\"url(#clip200)\" d=\"M 0 0 M189.103 1445.17 Q185.491 1445.17 183.663 1448.74 Q181.857 1452.28 181.857 1459.41 Q181.857 1466.51 183.663 1470.08 Q185.491 1473.62 189.103 1473.62 Q192.737 1473.62 194.542 1470.08 Q196.371 1466.51 196.371 1459.41 Q196.371 1452.28 194.542 1448.74 Q192.737 1445.17 189.103 1445.17 M189.103 1441.47 Q194.913 1441.47 197.968 1446.07 Q201.047 1450.66 201.047 1459.41 Q201.047 1468.13 197.968 1472.74 Q194.913 1477.32 189.103 1477.32 Q183.292 1477.32 180.214 1472.74 Q177.158 1468.13 177.158 1459.41 Q177.158 1450.66 180.214 1446.07 Q183.292 1441.47 189.103 1441.47 Z\" fill=\"#000000\" fill-rule=\"evenodd\" fill-opacity=\"1\" /><path clip-path=\"url(#clip200)\" d=\"M 0 0 M901.061 1458.02 Q904.418 1458.74 906.293 1461 Q908.191 1463.27 908.191 1466.61 Q908.191 1471.72 904.672 1474.52 Q901.154 1477.32 894.672 1477.32 Q892.496 1477.32 890.182 1476.88 Q887.89 1476.47 885.436 1475.61 L885.436 1471.1 Q887.381 1472.23 889.695 1472.81 Q892.01 1473.39 894.533 1473.39 Q898.932 1473.39 901.223 1471.65 Q903.538 1469.92 903.538 1466.61 Q903.538 1463.55 901.385 1461.84 Q899.256 1460.1 895.436 1460.1 L891.408 1460.1 L891.408 1456.26 L895.621 1456.26 Q899.07 1456.26 900.899 1454.89 Q902.728 1453.5 902.728 1450.91 Q902.728 1448.25 900.83 1446.84 Q898.955 1445.4 895.436 1445.4 Q893.515 1445.4 891.316 1445.82 Q889.117 1446.24 886.478 1447.11 L886.478 1442.95 Q889.14 1442.21 891.455 1441.84 Q893.793 1441.47 895.853 1441.47 Q901.177 1441.47 904.279 1443.9 Q907.381 1446.3 907.381 1450.43 Q907.381 1453.3 905.737 1455.29 Q904.094 1457.25 901.061 1458.02 Z\" fill=\"#000000\" fill-rule=\"evenodd\" fill-opacity=\"1\" /><path clip-path=\"url(#clip200)\" d=\"M 0 0 M923.26 1445.17 Q919.649 1445.17 917.82 1448.74 Q916.015 1452.28 916.015 1459.41 Q916.015 1466.51 917.82 1470.08 Q919.649 1473.62 923.26 1473.62 Q926.894 1473.62 928.7 1470.08 Q930.529 1466.51 930.529 1459.41 Q930.529 1452.28 928.7 1448.74 Q926.894 1445.17 923.26 1445.17 M923.26 1441.47 Q929.07 1441.47 932.126 1446.07 Q935.204 1450.66 935.204 1459.41 Q935.204 1468.13 932.126 1472.74 Q929.07 1477.32 923.26 1477.32 Q917.45 1477.32 914.371 1472.74 Q911.316 1468.13 911.316 1459.41 Q911.316 1450.66 914.371 1446.07 Q917.45 1441.47 923.26 1441.47 Z\" fill=\"#000000\" fill-rule=\"evenodd\" fill-opacity=\"1\" /><path clip-path=\"url(#clip200)\" d=\"M 0 0 M1618.44 1457.51 Q1615.29 1457.51 1613.44 1459.66 Q1611.61 1461.81 1611.61 1465.56 Q1611.61 1469.29 1613.44 1471.47 Q1615.29 1473.62 1618.44 1473.62 Q1621.58 1473.62 1623.41 1471.47 Q1625.27 1469.29 1625.27 1465.56 Q1625.27 1461.81 1623.41 1459.66 Q1621.58 1457.51 1618.44 1457.51 M1627.72 1442.86 L1627.72 1447.11 Q1625.96 1446.28 1624.15 1445.84 Q1622.37 1445.4 1620.61 1445.4 Q1615.98 1445.4 1613.53 1448.53 Q1611.1 1451.65 1610.75 1457.97 Q1612.12 1455.96 1614.18 1454.89 Q1616.24 1453.8 1618.71 1453.8 Q1623.92 1453.8 1626.93 1456.98 Q1629.96 1460.12 1629.96 1465.56 Q1629.96 1470.89 1626.82 1474.11 Q1623.67 1477.32 1618.44 1477.32 Q1612.44 1477.32 1609.27 1472.74 Q1606.1 1468.13 1606.1 1459.41 Q1606.1 1451.21 1609.99 1446.35 Q1613.88 1441.47 1620.43 1441.47 Q1622.19 1441.47 1623.97 1441.81 Q1625.77 1442.16 1627.72 1442.86 Z\" fill=\"#000000\" fill-rule=\"evenodd\" fill-opacity=\"1\" /><path clip-path=\"url(#clip200)\" d=\"M 0 0 M1645.03 1445.17 Q1641.42 1445.17 1639.59 1448.74 Q1637.79 1452.28 1637.79 1459.41 Q1637.79 1466.51 1639.59 1470.08 Q1641.42 1473.62 1645.03 1473.62 Q1648.67 1473.62 1650.47 1470.08 Q1652.3 1466.51 1652.3 1459.41 Q1652.3 1452.28 1650.47 1448.74 Q1648.67 1445.17 1645.03 1445.17 M1645.03 1441.47 Q1650.84 1441.47 1653.9 1446.07 Q1656.98 1450.66 1656.98 1459.41 Q1656.98 1468.13 1653.9 1472.74 Q1650.84 1477.32 1645.03 1477.32 Q1639.22 1477.32 1636.14 1472.74 Q1633.09 1468.13 1633.09 1459.41 Q1633.09 1450.66 1636.14 1446.07 Q1639.22 1441.47 1645.03 1441.47 Z\" fill=\"#000000\" fill-rule=\"evenodd\" fill-opacity=\"1\" /><path clip-path=\"url(#clip200)\" d=\"M 0 0 M2329.55 1475.93 L2329.55 1471.68 Q2331.31 1472.51 2333.11 1472.95 Q2334.92 1473.39 2336.66 1473.39 Q2341.29 1473.39 2343.72 1470.29 Q2346.17 1467.16 2346.52 1460.82 Q2345.17 1462.81 2343.11 1463.87 Q2341.05 1464.94 2338.55 1464.94 Q2333.37 1464.94 2330.34 1461.81 Q2327.33 1458.67 2327.33 1453.23 Q2327.33 1447.9 2330.48 1444.68 Q2333.62 1441.47 2338.86 1441.47 Q2344.85 1441.47 2348 1446.07 Q2351.17 1450.66 2351.17 1459.41 Q2351.17 1467.58 2347.28 1472.46 Q2343.42 1477.32 2336.86 1477.32 Q2335.11 1477.32 2333.3 1476.98 Q2331.49 1476.63 2329.55 1475.93 M2338.86 1461.28 Q2342 1461.28 2343.83 1459.13 Q2345.68 1456.98 2345.68 1453.23 Q2345.68 1449.5 2343.83 1447.35 Q2342 1445.17 2338.86 1445.17 Q2335.71 1445.17 2333.86 1447.35 Q2332.03 1449.5 2332.03 1453.23 Q2332.03 1456.98 2333.86 1459.13 Q2335.71 1461.28 2338.86 1461.28 Z\" fill=\"#000000\" fill-rule=\"evenodd\" fill-opacity=\"1\" /><path clip-path=\"url(#clip200)\" d=\"M 0 0 M2366.24 1445.17 Q2362.63 1445.17 2360.8 1448.74 Q2358.99 1452.28 2358.99 1459.41 Q2358.99 1466.51 2360.8 1470.08 Q2362.63 1473.62 2366.24 1473.62 Q2369.87 1473.62 2371.68 1470.08 Q2373.51 1466.51 2373.51 1459.41 Q2373.51 1452.28 2371.68 1448.74 Q2369.87 1445.17 2366.24 1445.17 M2366.24 1441.47 Q2372.05 1441.47 2375.11 1446.07 Q2378.18 1450.66 2378.18 1459.41 Q2378.18 1468.13 2375.11 1472.74 Q2372.05 1477.32 2366.24 1477.32 Q2360.43 1477.32 2357.35 1472.74 Q2354.3 1468.13 2354.3 1459.41 Q2354.3 1450.66 2357.35 1446.07 Q2360.43 1441.47 2366.24 1441.47 Z\" fill=\"#000000\" fill-rule=\"evenodd\" fill-opacity=\"1\" /><path clip-path=\"url(#clip200)\" d=\"M 0 0 M126.26 1243.81 L138.737 1243.81 L138.737 1247.6 L126.26 1247.6 L126.26 1243.81 Z\" fill=\"#000000\" fill-rule=\"evenodd\" fill-opacity=\"1\" /><path clip-path=\"url(#clip200)\" d=\"M 0 0 M157.973 1240.06 Q161.329 1240.78 163.204 1243.04 Q165.103 1245.31 165.103 1248.65 Q165.103 1253.76 161.584 1256.56 Q158.066 1259.36 151.584 1259.36 Q149.408 1259.36 147.093 1258.92 Q144.802 1258.51 142.348 1257.65 L142.348 1253.14 Q144.292 1254.27 146.607 1254.85 Q148.922 1255.43 151.445 1255.43 Q155.843 1255.43 158.135 1253.69 Q160.45 1251.96 160.45 1248.65 Q160.45 1245.59 158.297 1243.88 Q156.167 1242.14 152.348 1242.14 L148.32 1242.14 L148.32 1238.3 L152.533 1238.3 Q155.982 1238.3 157.811 1236.93 Q159.64 1235.54 159.64 1232.95 Q159.64 1230.29 157.741 1228.88 Q155.866 1227.44 152.348 1227.44 Q150.427 1227.44 148.228 1227.86 Q146.029 1228.28 143.39 1229.16 L143.39 1224.99 Q146.052 1224.25 148.367 1223.88 Q150.704 1223.51 152.765 1223.51 Q158.089 1223.51 161.191 1225.94 Q164.292 1228.34 164.292 1232.47 Q164.292 1235.34 162.649 1237.33 Q161.005 1239.29 157.973 1240.06 Z\" fill=\"#000000\" fill-rule=\"evenodd\" fill-opacity=\"1\" /><path clip-path=\"url(#clip200)\" d=\"M 0 0 M127.209 975.199 L139.686 975.199 L139.686 978.995 L127.209 978.995 L127.209 975.199 Z\" fill=\"#000000\" fill-rule=\"evenodd\" fill-opacity=\"1\" /><path clip-path=\"url(#clip200)\" d=\"M 0 0 M148.783 986.148 L165.103 986.148 L165.103 990.083 L143.158 990.083 L143.158 986.148 Q145.82 983.394 150.404 978.764 Q155.01 974.111 156.191 972.769 Q158.436 970.245 159.316 968.509 Q160.218 966.75 160.218 965.06 Q160.218 962.306 158.274 960.57 Q156.353 958.833 153.251 958.833 Q151.052 958.833 148.598 959.597 Q146.167 960.361 143.39 961.912 L143.39 957.19 Q146.214 956.056 148.667 955.477 Q151.121 954.898 153.158 954.898 Q158.529 954.898 161.723 957.583 Q164.917 960.269 164.917 964.759 Q164.917 966.889 164.107 968.81 Q163.32 970.708 161.214 973.301 Q160.635 973.972 157.533 977.19 Q154.431 980.384 148.783 986.148 Z\" fill=\"#000000\" fill-rule=\"evenodd\" fill-opacity=\"1\" /><path clip-path=\"url(#clip200)\" d=\"M 0 0 M126.839 706.591 L139.316 706.591 L139.316 710.387 L126.839 710.387 L126.839 706.591 Z\" fill=\"#000000\" fill-rule=\"evenodd\" fill-opacity=\"1\" /><path clip-path=\"url(#clip200)\" d=\"M 0 0 M145.195 717.54 L152.834 717.54 L152.834 691.174 L144.524 692.841 L144.524 688.581 L152.788 686.915 L157.464 686.915 L157.464 717.54 L165.103 717.54 L165.103 721.475 L145.195 721.475 L145.195 717.54 Z\" fill=\"#000000\" fill-rule=\"evenodd\" fill-opacity=\"1\" /><path clip-path=\"url(#clip200)\" d=\"M 0 0 M153.158 421.385 Q149.547 421.385 147.718 424.95 Q145.913 428.491 145.913 435.621 Q145.913 442.727 147.718 446.292 Q149.547 449.834 153.158 449.834 Q156.792 449.834 158.598 446.292 Q160.427 442.727 160.427 435.621 Q160.427 428.491 158.598 424.95 Q156.792 421.385 153.158 421.385 M153.158 417.681 Q158.968 417.681 162.024 422.288 Q165.103 426.871 165.103 435.621 Q165.103 444.348 162.024 448.954 Q158.968 453.537 153.158 453.537 Q147.348 453.537 144.269 448.954 Q141.214 444.348 141.214 435.621 Q141.214 426.871 144.269 422.288 Q147.348 417.681 153.158 417.681 Z\" fill=\"#000000\" fill-rule=\"evenodd\" fill-opacity=\"1\" /><path clip-path=\"url(#clip200)\" d=\"M 0 0 M145.195 180.322 L152.834 180.322 L152.834 153.957 L144.524 155.623 L144.524 151.364 L152.788 149.698 L157.464 149.698 L157.464 180.322 L165.103 180.322 L165.103 184.258 L145.195 184.258 L145.195 180.322 Z\" fill=\"#000000\" fill-rule=\"evenodd\" fill-opacity=\"1\" /><path clip-path=\"url(#clip200)\" d=\"M 0 0 M1071.24 1508.52 L1077.67 1508.52 L1077.67 1550.63 L1100.81 1550.63 L1100.81 1556.04 L1071.24 1556.04 L1071.24 1508.52 Z\" fill=\"#000000\" fill-rule=\"evenodd\" fill-opacity=\"1\" /><path clip-path=\"url(#clip200)\" d=\"M 0 0 M1123.15 1538.12 Q1116.05 1538.12 1113.31 1539.75 Q1110.58 1541.37 1110.58 1545.29 Q1110.58 1548.4 1112.61 1550.25 Q1114.68 1552.07 1118.22 1552.07 Q1123.09 1552.07 1126.01 1548.63 Q1128.97 1545.16 1128.97 1539.43 L1128.97 1538.12 L1123.15 1538.12 M1134.83 1535.71 L1134.83 1556.04 L1128.97 1556.04 L1128.97 1550.63 Q1126.97 1553.88 1123.98 1555.44 Q1120.99 1556.97 1116.66 1556.97 Q1111.18 1556.97 1107.94 1553.91 Q1104.72 1550.82 1104.72 1545.67 Q1104.72 1539.65 1108.73 1536.6 Q1112.77 1533.54 1120.76 1533.54 L1128.97 1533.54 L1128.97 1532.97 Q1128.97 1528.93 1126.3 1526.73 Q1123.66 1524.5 1118.85 1524.5 Q1115.8 1524.5 1112.9 1525.23 Q1110 1525.97 1107.33 1527.43 L1107.33 1522.02 Q1110.55 1520.78 1113.57 1520.17 Q1116.59 1519.54 1119.46 1519.54 Q1127.19 1519.54 1131.01 1523.55 Q1134.83 1527.56 1134.83 1535.71 Z\" fill=\"#000000\" fill-rule=\"evenodd\" fill-opacity=\"1\" /><path clip-path=\"url(#clip200)\" d=\"M 0 0 M1146.77 1510.27 L1146.77 1520.4 L1158.83 1520.4 L1158.83 1524.95 L1146.77 1524.95 L1146.77 1544.3 Q1146.77 1548.66 1147.94 1549.9 Q1149.15 1551.14 1152.81 1551.14 L1158.83 1551.14 L1158.83 1556.04 L1152.81 1556.04 Q1146.03 1556.04 1143.46 1553.53 Q1140.88 1550.98 1140.88 1544.3 L1140.88 1524.95 L1136.58 1524.95 L1136.58 1520.4 L1140.88 1520.4 L1140.88 1510.27 L1146.77 1510.27 Z\" fill=\"#000000\" fill-rule=\"evenodd\" fill-opacity=\"1\" /><path clip-path=\"url(#clip200)\" d=\"M 0 0 M1164.97 1520.4 L1170.83 1520.4 L1170.83 1556.04 L1164.97 1556.04 L1164.97 1520.4 M1164.97 1506.52 L1170.83 1506.52 L1170.83 1513.93 L1164.97 1513.93 L1164.97 1506.52 Z\" fill=\"#000000\" fill-rule=\"evenodd\" fill-opacity=\"1\" /><path clip-path=\"url(#clip200)\" d=\"M 0 0 M1182.76 1510.27 L1182.76 1520.4 L1194.83 1520.4 L1194.83 1524.95 L1182.76 1524.95 L1182.76 1544.3 Q1182.76 1548.66 1183.94 1549.9 Q1185.15 1551.14 1188.81 1551.14 L1194.83 1551.14 L1194.83 1556.04 L1188.81 1556.04 Q1182.03 1556.04 1179.45 1553.53 Q1176.88 1550.98 1176.88 1544.3 L1176.88 1524.95 L1172.58 1524.95 L1172.58 1520.4 L1176.88 1520.4 L1176.88 1510.27 L1182.76 1510.27 Z\" fill=\"#000000\" fill-rule=\"evenodd\" fill-opacity=\"1\" /><path clip-path=\"url(#clip200)\" d=\"M 0 0 M1200.37 1541.98 L1200.37 1520.4 L1206.22 1520.4 L1206.22 1541.75 Q1206.22 1546.81 1208.2 1549.36 Q1210.17 1551.87 1214.12 1551.87 Q1218.86 1551.87 1221.59 1548.85 Q1224.36 1545.83 1224.36 1540.61 L1224.36 1520.4 L1230.22 1520.4 L1230.22 1556.04 L1224.36 1556.04 L1224.36 1550.57 Q1222.23 1553.82 1219.4 1555.41 Q1216.6 1556.97 1212.87 1556.97 Q1206.73 1556.97 1203.55 1553.15 Q1200.37 1549.33 1200.37 1541.98 M1215.1 1519.54 L1215.1 1519.54 Z\" fill=\"#000000\" fill-rule=\"evenodd\" fill-opacity=\"1\" /><path clip-path=\"url(#clip200)\" d=\"M 0 0 M1259.82 1525.81 L1259.82 1506.52 L1265.68 1506.52 L1265.68 1556.04 L1259.82 1556.04 L1259.82 1550.7 Q1257.98 1553.88 1255.14 1555.44 Q1252.34 1556.97 1248.39 1556.97 Q1241.93 1556.97 1237.86 1551.81 Q1233.82 1546.65 1233.82 1538.25 Q1233.82 1529.85 1237.86 1524.69 Q1241.93 1519.54 1248.39 1519.54 Q1252.34 1519.54 1255.14 1521.1 Q1257.98 1522.62 1259.82 1525.81 M1239.86 1538.25 Q1239.86 1544.71 1242.51 1548.4 Q1245.18 1552.07 1249.83 1552.07 Q1254.47 1552.07 1257.15 1548.4 Q1259.82 1544.71 1259.82 1538.25 Q1259.82 1531.79 1257.15 1528.13 Q1254.47 1524.44 1249.83 1524.44 Q1245.18 1524.44 1242.51 1528.13 Q1239.86 1531.79 1239.86 1538.25 Z\" fill=\"#000000\" fill-rule=\"evenodd\" fill-opacity=\"1\" /><path clip-path=\"url(#clip200)\" d=\"M 0 0 M1302.31 1536.76 L1302.31 1539.62 L1275.39 1539.62 Q1275.77 1545.67 1279.01 1548.85 Q1282.29 1552 1288.12 1552 Q1291.49 1552 1294.64 1551.17 Q1297.82 1550.35 1300.94 1548.69 L1300.94 1554.23 Q1297.79 1555.57 1294.48 1556.27 Q1291.17 1556.97 1287.77 1556.97 Q1279.24 1556.97 1274.24 1552 Q1269.27 1547.04 1269.27 1538.57 Q1269.27 1529.82 1273.98 1524.69 Q1278.73 1519.54 1286.75 1519.54 Q1293.94 1519.54 1298.11 1524.18 Q1302.31 1528.8 1302.31 1536.76 M1296.46 1535.04 Q1296.39 1530.23 1293.75 1527.37 Q1291.14 1524.5 1286.81 1524.5 Q1281.91 1524.5 1278.95 1527.27 Q1276.02 1530.04 1275.58 1535.07 L1296.46 1535.04 Z\" fill=\"#000000\" fill-rule=\"evenodd\" fill-opacity=\"1\" /><path clip-path=\"url(#clip200)\" d=\"M 0 0 M1343.24 1506.58 Q1338.98 1513.9 1336.91 1521.06 Q1334.84 1528.23 1334.84 1535.58 Q1334.84 1542.93 1336.91 1550.16 Q1339.01 1557.35 1343.24 1564.64 L1338.15 1564.64 Q1333.38 1557.16 1330.99 1549.93 Q1328.63 1542.71 1328.63 1535.58 Q1328.63 1528.48 1330.99 1521.29 Q1333.34 1514.09 1338.15 1506.58 L1343.24 1506.58 Z\" fill=\"#000000\" fill-rule=\"evenodd\" fill-opacity=\"1\" /><path clip-path=\"url(#clip200)\" d=\"M 0 0 M1372.84 1525.81 L1372.84 1506.52 L1378.7 1506.52 L1378.7 1556.04 L1372.84 1556.04 L1372.84 1550.7 Q1371 1553.88 1368.17 1555.44 Q1365.36 1556.97 1361.42 1556.97 Q1354.96 1556.97 1350.88 1551.81 Q1346.84 1546.65 1346.84 1538.25 Q1346.84 1529.85 1350.88 1524.69 Q1354.96 1519.54 1361.42 1519.54 Q1365.36 1519.54 1368.17 1521.1 Q1371 1522.62 1372.84 1525.81 M1352.89 1538.25 Q1352.89 1544.71 1355.53 1548.4 Q1358.2 1552.07 1362.85 1552.07 Q1367.5 1552.07 1370.17 1548.4 Q1372.84 1544.71 1372.84 1538.25 Q1372.84 1531.79 1370.17 1528.13 Q1367.5 1524.44 1362.85 1524.44 Q1358.2 1524.44 1355.53 1528.13 Q1352.89 1531.79 1352.89 1538.25 Z\" fill=\"#000000\" fill-rule=\"evenodd\" fill-opacity=\"1\" /><path clip-path=\"url(#clip200)\" d=\"M 0 0 M1415.34 1536.76 L1415.34 1539.62 L1388.41 1539.62 Q1388.79 1545.67 1392.04 1548.85 Q1395.32 1552 1401.14 1552 Q1404.51 1552 1407.66 1551.17 Q1410.85 1550.35 1413.97 1548.69 L1413.97 1554.23 Q1410.82 1555.57 1407.51 1556.27 Q1404.2 1556.97 1400.79 1556.97 Q1392.26 1556.97 1387.26 1552 Q1382.3 1547.04 1382.3 1538.57 Q1382.3 1529.82 1387.01 1524.69 Q1391.75 1519.54 1399.77 1519.54 Q1406.96 1519.54 1411.13 1524.18 Q1415.34 1528.8 1415.34 1536.76 M1409.48 1535.04 Q1409.42 1530.23 1406.77 1527.37 Q1404.16 1524.5 1399.83 1524.5 Q1394.93 1524.5 1391.97 1527.27 Q1389.04 1530.04 1388.6 1535.07 L1409.48 1535.04 Z\" fill=\"#000000\" fill-rule=\"evenodd\" fill-opacity=\"1\" /><path clip-path=\"url(#clip200)\" d=\"M 0 0 M1444.94 1537.81 Q1444.94 1531.44 1442.29 1527.94 Q1439.68 1524.44 1434.94 1524.44 Q1430.23 1524.44 1427.59 1527.94 Q1424.98 1531.44 1424.98 1537.81 Q1424.98 1544.14 1427.59 1547.64 Q1430.23 1551.14 1434.94 1551.14 Q1439.68 1551.14 1442.29 1547.64 Q1444.94 1544.14 1444.94 1537.81 M1450.79 1551.62 Q1450.79 1560.72 1446.75 1565.15 Q1442.71 1569.6 1434.37 1569.6 Q1431.28 1569.6 1428.54 1569.13 Q1425.81 1568.68 1423.23 1567.72 L1423.23 1562.03 Q1425.81 1563.43 1428.32 1564.1 Q1430.84 1564.76 1433.45 1564.76 Q1439.21 1564.76 1442.07 1561.74 Q1444.94 1558.75 1444.94 1552.67 L1444.94 1549.77 Q1443.12 1552.92 1440.29 1554.48 Q1437.46 1556.04 1433.51 1556.04 Q1426.95 1556.04 1422.94 1551.05 Q1418.93 1546.05 1418.93 1537.81 Q1418.93 1529.53 1422.94 1524.53 Q1426.95 1519.54 1433.51 1519.54 Q1437.46 1519.54 1440.29 1521.1 Q1443.12 1522.66 1444.94 1525.81 L1444.94 1520.4 L1450.79 1520.4 L1450.79 1551.62 Z\" fill=\"#000000\" fill-rule=\"evenodd\" fill-opacity=\"1\" /><path clip-path=\"url(#clip200)\" d=\"M 0 0 M1456.01 1506.58 L1461.1 1506.58 Q1465.88 1514.09 1468.23 1521.29 Q1470.62 1528.48 1470.62 1535.58 Q1470.62 1542.71 1468.23 1549.93 Q1465.88 1557.16 1461.1 1564.64 L1456.01 1564.64 Q1460.25 1557.35 1462.31 1550.16 Q1464.41 1542.93 1464.41 1535.58 Q1464.41 1528.23 1462.31 1521.06 Q1460.25 1513.9 1456.01 1506.58 Z\" fill=\"#000000\" fill-rule=\"evenodd\" fill-opacity=\"1\" /><path clip-path=\"url(#clip200)\" d=\"M 0 0 M40.4842 974.865 L40.4842 968.372 L80.6518 958.378 L40.4842 948.415 L40.4842 941.19 L80.6518 931.196 L40.4842 921.234 L40.4842 914.709 L88.0042 926.645 L88.0042 934.729 L46.7544 944.755 L88.0042 954.877 L88.0042 962.961 L40.4842 974.865 Z\" fill=\"#000000\" fill-rule=\"evenodd\" fill-opacity=\"1\" /><path clip-path=\"url(#clip200)\" d=\"M 0 0 M70.0847 896.535 Q70.0847 903.633 71.7079 906.37 Q73.3312 909.107 77.2461 909.107 Q80.3653 909.107 82.2114 907.07 Q84.0256 905.001 84.0256 901.468 Q84.0256 896.599 80.5881 893.67 Q77.1188 890.71 71.3897 890.71 L70.0847 890.71 L70.0847 896.535 M67.6657 884.854 L88.0042 884.854 L88.0042 890.71 L82.5933 890.71 Q85.8398 892.715 87.3994 895.707 Q88.9272 898.699 88.9272 903.028 Q88.9272 908.502 85.8716 911.749 Q82.7843 914.964 77.6281 914.964 Q71.6125 914.964 68.5569 910.953 Q65.5014 906.911 65.5014 898.922 L65.5014 890.71 L64.9285 890.71 Q60.8862 890.71 58.6901 893.384 Q56.4621 896.026 56.4621 900.832 Q56.4621 903.887 57.1941 906.784 Q57.9262 909.68 59.3903 912.354 L53.9795 912.354 Q52.7381 909.139 52.1334 906.115 Q51.4968 903.092 51.4968 900.227 Q51.4968 892.493 55.5072 888.673 Q59.5176 884.854 67.6657 884.854 Z\" fill=\"#000000\" fill-rule=\"evenodd\" fill-opacity=\"1\" /><path clip-path=\"url(#clip200)\" d=\"M 0 0 M52.3562 882.912 L52.3562 876.706 L82.275 865.566 L52.3562 854.426 L52.3562 848.219 L88.0042 861.587 L88.0042 869.544 L52.3562 882.912 Z\" fill=\"#000000\" fill-rule=\"evenodd\" fill-opacity=\"1\" /><path clip-path=\"url(#clip200)\" d=\"M 0 0 M68.7161 811.585 L71.5806 811.585 L71.5806 838.511 Q77.6281 838.13 80.8109 834.883 Q83.9619 831.605 83.9619 825.78 Q83.9619 822.406 83.1344 819.255 Q82.3069 816.072 80.6518 812.953 L86.1899 812.953 Q87.5267 816.104 88.227 819.414 Q88.9272 822.725 88.9272 826.13 Q88.9272 834.66 83.9619 839.657 Q78.9967 844.623 70.5303 844.623 Q61.7774 844.623 56.6531 839.912 Q51.4968 835.169 51.4968 827.149 Q51.4968 819.955 56.1438 815.786 Q60.7589 811.585 68.7161 811.585 M66.9973 817.441 Q62.1912 817.505 59.3266 820.146 Q56.4621 822.756 56.4621 827.085 Q56.4621 831.987 59.2312 834.947 Q62.0002 837.875 67.0292 838.321 L66.9973 817.441 Z\" fill=\"#000000\" fill-rule=\"evenodd\" fill-opacity=\"1\" /><path clip-path=\"url(#clip200)\" d=\"M 0 0 M46.818 768.584 L70.4666 777.305 L70.4666 759.831 L46.818 768.584 M40.4842 772.213 L40.4842 764.924 L88.0042 746.813 L88.0042 753.497 L75.8138 757.826 L75.8138 779.247 L88.0042 783.575 L88.0042 790.355 L40.4842 772.213 Z\" fill=\"#000000\" fill-rule=\"evenodd\" fill-opacity=\"1\" /><path clip-path=\"url(#clip200)\" d=\"M 0 0 M59.1993 712.916 Q55.2526 710.72 53.3747 707.664 Q51.4968 704.609 51.4968 700.471 Q51.4968 694.901 55.4117 691.877 Q59.2948 688.854 66.4881 688.854 L88.0042 688.854 L88.0042 694.742 L66.679 694.742 Q61.5546 694.742 59.072 696.556 Q56.5894 698.37 56.5894 702.094 Q56.5894 706.646 59.6131 709.288 Q62.6368 711.929 67.8567 711.929 L88.0042 711.929 L88.0042 717.818 L66.679 717.818 Q61.5228 717.818 59.072 719.632 Q56.5894 721.446 56.5894 725.234 Q56.5894 729.722 59.6449 732.363 Q62.6686 735.005 67.8567 735.005 L88.0042 735.005 L88.0042 740.893 L52.3562 740.893 L52.3562 735.005 L57.8944 735.005 Q54.616 733 53.0564 730.199 Q51.4968 727.398 51.4968 723.547 Q51.4968 719.664 53.4702 716.958 Q55.4436 714.221 59.1993 712.916 Z\" fill=\"#000000\" fill-rule=\"evenodd\" fill-opacity=\"1\" /><path clip-path=\"url(#clip200)\" d=\"M 0 0 M82.657 677.045 L101.563 677.045 L101.563 682.934 L52.3562 682.934 L52.3562 677.045 L57.7671 677.045 Q54.5842 675.199 53.0564 672.398 Q51.4968 669.566 51.4968 665.651 Q51.4968 659.158 56.6531 655.115 Q61.8093 651.041 70.212 651.041 Q78.6147 651.041 83.771 655.115 Q88.9272 659.158 88.9272 665.651 Q88.9272 669.566 87.3994 672.398 Q85.8398 675.199 82.657 677.045 M70.212 657.121 Q63.7508 657.121 60.0905 659.794 Q56.3984 662.436 56.3984 667.083 Q56.3984 671.73 60.0905 674.404 Q63.7508 677.045 70.212 677.045 Q76.6732 677.045 80.3653 674.404 Q84.0256 671.73 84.0256 667.083 Q84.0256 662.436 80.3653 659.794 Q76.6732 657.121 70.212 657.121 Z\" fill=\"#000000\" fill-rule=\"evenodd\" fill-opacity=\"1\" /><path clip-path=\"url(#clip200)\" d=\"M 0 0 M38.479 644.899 L38.479 639.042 L88.0042 639.042 L88.0042 644.899 L38.479 644.899 Z\" fill=\"#000000\" fill-rule=\"evenodd\" fill-opacity=\"1\" /><path clip-path=\"url(#clip200)\" d=\"M 0 0 M52.3562 632.899 L52.3562 627.043 L88.0042 627.043 L88.0042 632.899 L52.3562 632.899 M38.479 632.899 L38.479 627.043 L45.895 627.043 L45.895 632.899 L38.479 632.899 Z\" fill=\"#000000\" fill-rule=\"evenodd\" fill-opacity=\"1\" /><path clip-path=\"url(#clip200)\" d=\"M 0 0 M42.2347 615.107 L52.3562 615.107 L52.3562 603.044 L56.9077 603.044 L56.9077 615.107 L76.2594 615.107 Q80.6199 615.107 81.8613 613.929 Q83.1026 612.72 83.1026 609.06 L83.1026 603.044 L88.0042 603.044 L88.0042 609.06 Q88.0042 615.839 85.4897 618.417 Q82.9434 620.995 76.2594 620.995 L56.9077 620.995 L56.9077 625.292 L52.3562 625.292 L52.3562 620.995 L42.2347 620.995 L42.2347 615.107 Z\" fill=\"#000000\" fill-rule=\"evenodd\" fill-opacity=\"1\" /><path clip-path=\"url(#clip200)\" d=\"M 0 0 M73.9359 597.506 L52.3562 597.506 L52.3562 591.649 L73.7131 591.649 Q78.7739 591.649 81.3202 589.676 Q83.8346 587.703 83.8346 583.756 Q83.8346 579.013 80.8109 576.276 Q77.7872 573.507 72.5673 573.507 L52.3562 573.507 L52.3562 567.651 L88.0042 567.651 L88.0042 573.507 L82.5296 573.507 Q85.7762 575.64 87.3676 578.472 Q88.9272 581.273 88.9272 584.997 Q88.9272 591.14 85.1078 594.323 Q81.2883 597.506 73.9359 597.506 M51.4968 582.769 L51.4968 582.769 Z\" fill=\"#000000\" fill-rule=\"evenodd\" fill-opacity=\"1\" /><path clip-path=\"url(#clip200)\" d=\"M 0 0 M57.7671 538.05 L38.479 538.05 L38.479 532.194 L88.0042 532.194 L88.0042 538.05 L82.657 538.05 Q85.8398 539.896 87.3994 542.729 Q88.9272 545.53 88.9272 549.477 Q88.9272 555.938 83.771 560.012 Q78.6147 564.054 70.212 564.054 Q61.8093 564.054 56.6531 560.012 Q51.4968 555.938 51.4968 549.477 Q51.4968 545.53 53.0564 542.729 Q54.5842 539.896 57.7671 538.05 M70.212 558.007 Q76.6732 558.007 80.3653 555.365 Q84.0256 552.691 84.0256 548.044 Q84.0256 543.397 80.3653 540.724 Q76.6732 538.05 70.212 538.05 Q63.7508 538.05 60.0905 540.724 Q56.3984 543.397 56.3984 548.044 Q56.3984 552.691 60.0905 555.365 Q63.7508 558.007 70.212 558.007 Z\" fill=\"#000000\" fill-rule=\"evenodd\" fill-opacity=\"1\" /><path clip-path=\"url(#clip200)\" d=\"M 0 0 M68.7161 495.559 L71.5806 495.559 L71.5806 522.486 Q77.6281 522.104 80.8109 518.858 Q83.9619 515.579 83.9619 509.755 Q83.9619 506.381 83.1344 503.23 Q82.3069 500.047 80.6518 496.928 L86.1899 496.928 Q87.5267 500.079 88.227 503.389 Q88.9272 506.699 88.9272 510.105 Q88.9272 518.635 83.9619 523.632 Q78.9967 528.597 70.5303 528.597 Q61.7774 528.597 56.6531 523.886 Q51.4968 519.144 51.4968 511.123 Q51.4968 503.93 56.1438 499.76 Q60.7589 495.559 68.7161 495.559 M66.9973 501.415 Q62.1912 501.479 59.3266 504.121 Q56.4621 506.731 56.4621 511.06 Q56.4621 515.961 59.2312 518.921 Q62.0002 521.849 67.0292 522.295 L66.9973 501.415 Z\" fill=\"#000000\" fill-rule=\"evenodd\" fill-opacity=\"1\" /><polyline clip-path=\"url(#clip202)\" style=\"stroke:#009af9; stroke-width:4; stroke-opacity:1; fill:none\" points=\"\n",
       "  197.658,435.586 206.214,435.586 214.77,435.586 223.328,435.585 231.887,435.585 240.447,435.585 249.009,435.585 257.574,435.584 266.142,435.584 274.712,435.584 \n",
       "  283.286,435.584 291.863,435.583 300.444,435.583 309.03,435.582 317.62,435.582 326.216,435.581 334.817,435.581 343.423,435.58 352.035,435.58 360.654,435.579 \n",
       "  369.28,435.578 377.913,435.577 386.553,435.576 395.201,435.575 403.857,435.573 412.522,435.572 421.196,435.57 429.879,435.568 438.572,435.566 447.274,435.564 \n",
       "  455.988,435.562 464.712,435.559 473.447,435.556 482.194,435.552 490.953,435.548 499.724,435.544 508.508,435.539 517.306,435.533 526.117,435.527 534.942,435.521 \n",
       "  543.782,435.513 552.636,435.505 561.506,435.496 570.392,435.485 579.295,435.474 588.214,435.461 597.15,435.446 606.104,435.431 615.076,435.413 624.067,435.393 \n",
       "  633.077,435.371 642.107,435.347 651.157,435.32 660.228,435.289 669.32,435.256 678.435,435.218 687.571,435.177 696.731,435.131 705.914,435.079 715.121,435.022 \n",
       "  724.353,434.959 733.611,434.888 742.894,434.81 752.204,434.723 761.542,434.627 770.907,434.52 780.302,434.401 789.725,434.27 799.179,434.124 808.664,433.962 \n",
       "  818.18,433.782 827.729,433.584 837.311,433.363 846.927,433.12 856.578,432.85 866.264,432.551 875.987,432.221 885.748,431.856 895.547,431.453 905.386,431.007 \n",
       "  915.265,430.514 925.185,429.971 935.148,429.371 945.155,428.709 955.206,427.98 965.303,427.177 975.447,426.292 985.639,425.318 995.88,424.247 1006.17,423.069 \n",
       "  1016.52,421.775 1026.91,420.355 1037.37,418.796 1047.88,417.088 1058.44,415.216 1069.07,413.166 1079.76,410.925 1090.51,408.475 1101.33,405.801 1112.21,402.883 \n",
       "  1123.16,399.704 1134.18,396.244 1145.28,392.481 1156.45,388.394 1167.69,383.962 1179.02,379.161 1190.43,373.967 1201.92,368.358 1213.5,362.31 1225.17,355.8 \n",
       "  1236.93,348.804 1248.79,341.304 1260.75,333.277 1272.82,324.709 1284.99,315.586 1297.27,305.897 1309.66,295.638 1322.18,284.812 1334.81,273.428 1347.58,261.507 \n",
       "  1360.48,249.077 1373.52,236.183 1386.71,222.884 1400.04,209.257 1413.54,195.398 1427.19,181.43 1441.03,167.501 1455.04,153.788 1469.24,140.503 1483.64,127.897 \n",
       "  1498.25,116.261 1513.07,105.932 1528.14,97.2947 1543.44,90.787 1559.01,86.9013 1574.85,86.1857 1590.99,89.2447 1607.43,96.7374 1624.21,109.372 1641.35,127.9 \n",
       "  1658.87,153.101 1676.81,185.765 1695.19,226.667 1714.06,276.529 1733.47,335.975 1753.45,405.462 1774.08,485.204 1795.43,575.059 1817.58,674.396 1840.64,781.919 \n",
       "  1864.73,895.453 1890.02,1011.66 1916.71,1125.72 1945.09,1230.87 1975.53,1317.88 2008.58,1374.43 2045.07,1384.24 2086.43,1326.03 2135.42,1172.23 2199.15,887.396 \n",
       "  2237.55,690.191 2275.96,548.891 2314.36,463.934 2352.76,435.586 \n",
       "  \"/>\n",
       "<path clip-path=\"url(#clip200)\" d=\"\n",
       "M1989.74 251.724 L2280.76 251.724 L2280.76 130.764 L1989.74 130.764  Z\n",
       "  \" fill=\"#ffffff\" fill-rule=\"evenodd\" fill-opacity=\"1\"/>\n",
       "<polyline clip-path=\"url(#clip200)\" style=\"stroke:#000000; stroke-width:4; stroke-opacity:1; fill:none\" points=\"\n",
       "  1989.74,251.724 2280.76,251.724 2280.76,130.764 1989.74,130.764 1989.74,251.724 \n",
       "  \"/>\n",
       "<polyline clip-path=\"url(#clip200)\" style=\"stroke:#009af9; stroke-width:4; stroke-opacity:1; fill:none\" points=\"\n",
       "  2013.74,191.244 2157.74,191.244 \n",
       "  \"/>\n",
       "<path clip-path=\"url(#clip200)\" d=\"M 0 0 M2195.58 210.931 Q2193.77 215.561 2192.06 216.973 Q2190.35 218.385 2187.48 218.385 L2184.08 218.385 L2184.08 214.82 L2186.58 214.82 Q2188.33 214.82 2189.31 213.987 Q2190.28 213.154 2191.46 210.052 L2192.22 208.107 L2181.74 182.598 L2186.25 182.598 L2194.35 202.876 L2202.46 182.598 L2206.97 182.598 L2195.58 210.931 Z\" fill=\"#000000\" fill-rule=\"evenodd\" fill-opacity=\"1\" /><path clip-path=\"url(#clip200)\" d=\"M 0 0 M2212.85 204.589 L2220.49 204.589 L2220.49 178.223 L2212.18 179.89 L2212.18 175.631 L2220.44 173.964 L2225.12 173.964 L2225.12 204.589 L2232.76 204.589 L2232.76 208.524 L2212.85 208.524 L2212.85 204.589 Z\" fill=\"#000000\" fill-rule=\"evenodd\" fill-opacity=\"1\" /></svg>\n"
      ]
     },
     "execution_count": 15,
     "metadata": {},
     "output_type": "execute_result"
    }
   ],
   "source": []
  }
 ],
 "metadata": {
  "kernelspec": {
   "display_name": "Julia 1.5.2",
   "language": "julia",
   "name": "julia-1.5"
  },
  "language_info": {
   "file_extension": ".jl",
   "mimetype": "application/julia",
   "name": "julia",
   "version": "1.5.2"
  }
 },
 "nbformat": 4,
 "nbformat_minor": 2
}
