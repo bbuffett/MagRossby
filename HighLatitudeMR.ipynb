{
 "cells": [
  {
   "cell_type": "markdown",
   "metadata": {},
   "source": [
    "High-Latitude Magnetic Rossby Waves\n",
    "\n",
    "Calculation of a magnetic Rossby waves with angular order m = 1. This particular choice allows fluid flow and a magnetic perturbation at the poles. Only the northern hemisphere is included in the calculations. Layer properties are chosen to give a period of roughly 20 years. The solution is saved as a Matlab file. "
   ]
  },
  {
   "cell_type": "code",
   "execution_count": 1,
   "metadata": {},
   "outputs": [],
   "source": [
    "using LinearAlgebra\n",
    "using NonlinearEigenproblems\n",
    "using Interpolations\n",
    "using Plots\n",
    "using MAT\n",
    "include(\"ProjectFiles.jl\");\n"
   ]
  },
  {
   "cell_type": "code",
   "execution_count": 2,
   "metadata": {},
   "outputs": [],
   "source": [
    "# define model parameters\n",
    "H = 132.5;    # thickness of layer (km)\n",
    "Np = 1.1;    # dimensionless stratification Np = N/Omega\n",
    "m = 1;        # angular order\n",
    "Br = 0.6;     # radial magnetic field (mT)"
   ]
  },
  {
   "cell_type": "code",
   "execution_count": 3,
   "metadata": {},
   "outputs": [],
   "source": [
    "# number of grid points in latitude (equator to pole)\n",
    "ngrid = 160;"
   ]
  },
  {
   "cell_type": "markdown",
   "metadata": {},
   "source": [
    "A total of 320 modes are recovered when ngrid=160. Select an initial estimate of the period to identify the wave of interest.  "
   ]
  },
  {
   "cell_type": "code",
   "execution_count": 4,
   "metadata": {},
   "outputs": [],
   "source": [
    "# initial period\n",
    "T = -20.0;     # years"
   ]
  },
  {
   "cell_type": "code",
   "execution_count": 5,
   "metadata": {},
   "outputs": [
    {
     "name": "stdout",
     "output_type": "stream",
     "text": [
      "mode number = 12\n",
      "Period = -20.411600723304012 (years)    Quality factor Q = 69.39529339709419\n"
     ]
    }
   ],
   "source": [
    "pd,q,bx,by,y = pWaves(ngrid,H,Np,Br,m,T);\n",
    "println(\"Period = \",pd,\" (years)    Quality factor Q = \",q);"
   ]
  },
  {
   "cell_type": "markdown",
   "metadata": {},
   "source": [
    "Plot the real part of the eigenfunction $b_x$"
   ]
  },
  {
   "cell_type": "code",
   "execution_count": null,
   "metadata": {},
   "outputs": [],
   "source": [
    "lt = asin.(y)*180.0/pi;\n",
    "amp = maximum(abs.(real(by)));\n",
    "plot(y,real(bx)/amp,xlabel=\"cos(theta)\",ylabel=\"Wave Amplitude\",legend=nothing)"
   ]
  },
  {
   "cell_type": "markdown",
   "metadata": {},
   "source": [
    "Compute horizontal components velocity $(v_{\\theta},v_{\\phi})$ and acceleration $(a_{\\theta}, a_{\\phi})$ from the eigenfunctions by and bx"
   ]
  },
  {
   "cell_type": "code",
   "execution_count": null,
   "metadata": {},
   "outputs": [],
   "source": [
    "ntheta = 100\n",
    "t,colat,lg,vph,vth,aph,ath = realization(ntheta,H,Br,m,y,bx,by,pd,q);"
   ]
  },
  {
   "cell_type": "markdown",
   "metadata": {},
   "source": [
    "Compute the horizontal divergence of velocity and acceleration\n",
    "\n",
    "Velocity Field\n",
    "\n",
    "$\\nabla \\cdot {\\bf v}_H = \\frac{1}{r \\sin\\theta}\\, \\partial_{\\theta} (\\sin\\theta v_{\\theta})  + \\frac{1}{r\\sin\\theta} \\partial_\\phi v_{\\phi}$\n",
    "\n",
    "Acceleration\n",
    "\n",
    "$\\nabla \\cdot {\\bf a}_H = \\frac{1}{r \\sin\\theta}\\, \\partial_{\\theta} (\\sin\\theta a_{\\theta})  + \\frac{1}{r\\sin\\theta} \\partial_\\phi a_{\\phi}$"
   ]
  },
  {
   "cell_type": "code",
   "execution_count": null,
   "metadata": {},
   "outputs": [],
   "source": [
    "vdiv, adiv = divergence(t,colat,lg,vph,vth,aph,ath);"
   ]
  },
  {
   "cell_type": "markdown",
   "metadata": {},
   "source": [
    "Save a matlab file"
   ]
  },
  {
   "cell_type": "code",
   "execution_count": null,
   "metadata": {},
   "outputs": [],
   "source": [
    "t = t .+ 1990.0;\n",
    "lat = -colat * (180/pi) .+ 90.0\n",
    "lg = lg * (180/pi);"
   ]
  },
  {
   "cell_type": "code",
   "execution_count": null,
   "metadata": {},
   "outputs": [],
   "source": [
    "file = matopen(\"MagRossby_M1.mat\",\"w\");\n",
    "write(file,\"t\",t)\n",
    "write(file,\"lat\",lat)\n",
    "write(file,\"lg\",lg)\n",
    "write(file,\"vph\",vph)\n",
    "write(file,\"vth\",vth)\n",
    "write(file,\"aph\",aph)\n",
    "write(file,\"ath\",ath)\n",
    "write(file,\"vdiv\",vdiv)\n",
    "write(file,\"adiv\",adiv)\n",
    "close(file)"
   ]
  },
  {
   "cell_type": "code",
   "execution_count": null,
   "metadata": {},
   "outputs": [],
   "source": [
    "contourf(lg,colat*(180/pi),ath[1,:,:])"
   ]
  },
  {
   "cell_type": "code",
   "execution_count": null,
   "metadata": {},
   "outputs": [],
   "source": [
    "contourf(lg,colat*(180/pi),aph[1,:,:])"
   ]
  },
  {
   "cell_type": "code",
   "execution_count": null,
   "metadata": {},
   "outputs": [],
   "source": [
    "[length(colat),length(lg),length(t)]"
   ]
  },
  {
   "cell_type": "code",
   "execution_count": null,
   "metadata": {},
   "outputs": [],
   "source": []
  }
 ],
 "metadata": {
  "@webio": {
   "lastCommId": null,
   "lastKernelId": null
  },
  "kernelspec": {
   "display_name": "Julia 1.7.1",
   "language": "julia",
   "name": "julia-1.7"
  },
  "language_info": {
   "file_extension": ".jl",
   "mimetype": "application/julia",
   "name": "julia",
   "version": "1.7.1"
  }
 },
 "nbformat": 4,
 "nbformat_minor": 2
}
